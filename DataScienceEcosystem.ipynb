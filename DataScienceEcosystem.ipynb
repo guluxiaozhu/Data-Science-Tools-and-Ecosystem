{
 "cells": [
  {
   "cell_type": "markdown",
   "id": "5b59e036-568d-41da-990d-f42ce8c5b93b",
   "metadata": {},
   "source": [
    "# Data Science Tools and Ecosystem"
   ]
  },
  {
   "cell_type": "markdown",
   "id": "646cc1a2-70dc-4e55-80bf-2e5a60b2dfc1",
   "metadata": {},
   "source": [
    "## In this notebook, I'm trying to summerize Data Science Tools and Ecosystem."
   ]
  },
  {
   "cell_type": "markdown",
   "id": "32f73b50-10ce-493a-b38e-92eb430e0dc1",
   "metadata": {},
   "source": [
    "**Objectives:**\n",
    "\n",
    "- List popular languages for Data Science\n",
    "- Explore commonly used libraries used by Data Scientists\n",
    "- Some open source tools for Data Scientists\n",
    "- Some arithmetic expression examples\n"
   ]
  },
  {
   "cell_type": "markdown",
   "id": "9f909774-ff6b-4b96-a335-5d4d0068268a",
   "metadata": {},
   "source": [
    "### Some of the popular languages that Data Scientists use are:"
   ]
  },
  {
   "cell_type": "markdown",
   "id": "3db96f3b-932a-4874-9cb0-fa523140a9e3",
   "metadata": {},
   "source": [
    "1. Python\n",
    "2. R\n",
    "3. C++"
   ]
  },
  {
   "cell_type": "markdown",
   "id": "2d16ecd0-a6b1-4a41-ab8b-437528d679ca",
   "metadata": {},
   "source": [
    "### Some of the commonly used libraries used by Data Scientists include:"
   ]
  },
  {
   "cell_type": "markdown",
   "id": "3de7c68a-5022-4228-921f-2e70f2d9f5c7",
   "metadata": {},
   "source": [
    "1. Numpy\n",
    "2. Pandas\n",
    "3. Matplotlib\n",
    "4. PyTorch"
   ]
  },
  {
   "cell_type": "markdown",
   "id": "4537b780-aaf2-48fc-be73-51711b680e23",
   "metadata": {},
   "source": [
    "| Data Science Tools  |\n",
    "|:---------------------|\n",
    "| Jupyter Notebook     |\n",
    "| RStudio              |\n",
    "| VS Code              |\n"
   ]
  },
  {
   "cell_type": "markdown",
   "id": "a27ef240-8327-4676-90d3-4e07da138397",
   "metadata": {},
   "source": [
    "### Below are a few examples of evaluating arithmetic expressions in Python."
   ]
  },
  {
   "cell_type": "code",
   "execution_count": 1,
   "id": "249257a9-d338-4fb9-9dcb-3ed6a9454177",
   "metadata": {},
   "outputs": [
    {
     "data": {
      "text/plain": [
       "17"
      ]
     },
     "execution_count": 1,
     "metadata": {},
     "output_type": "execute_result"
    }
   ],
   "source": [
    "# This a simple arithmetic expression to mutiply then add integers\n",
    "(3*4)+5"
   ]
  },
  {
   "cell_type": "code",
   "execution_count": 2,
   "id": "689a870e-40c8-46f5-8d55-81c2703ab856",
   "metadata": {},
   "outputs": [
    {
     "data": {
      "text/plain": [
       "3.3333333333333335"
      ]
     },
     "execution_count": 2,
     "metadata": {},
     "output_type": "execute_result"
    }
   ],
   "source": [
    "# This will convert 200 minutes to hours by diving by 60\n",
    "200/60"
   ]
  },
  {
   "cell_type": "markdown",
   "id": "f5c72909-c2ba-46b9-aad8-997b57ae5c4a",
   "metadata": {},
   "source": [
    "## Author\n",
    "\n",
    "Kunyu He\n"
   ]
  },
  {
   "cell_type": "code",
   "execution_count": null,
   "id": "32a560d5-a825-4e04-b36a-4997de693fb4",
   "metadata": {},
   "outputs": [],
   "source": []
  }
 ],
 "metadata": {
  "kernelspec": {
   "display_name": "Python 3 (ipykernel)",
   "language": "python",
   "name": "python3"
  },
  "language_info": {
   "codemirror_mode": {
    "name": "ipython",
    "version": 3
   },
   "file_extension": ".py",
   "mimetype": "text/x-python",
   "name": "python",
   "nbconvert_exporter": "python",
   "pygments_lexer": "ipython3",
   "version": "3.12.7"
  }
 },
 "nbformat": 4,
 "nbformat_minor": 5
}
